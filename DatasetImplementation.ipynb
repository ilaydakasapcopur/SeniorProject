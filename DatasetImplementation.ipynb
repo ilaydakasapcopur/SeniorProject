{
  "nbformat": 4,
  "nbformat_minor": 0,
  "metadata": {
    "colab": {
      "provenance": [],
      "authorship_tag": "ABX9TyO8gsY2psY+oRPxI1wJXk3m",
      "include_colab_link": true
    },
    "kernelspec": {
      "name": "python3",
      "display_name": "Python 3"
    },
    "language_info": {
      "name": "python"
    }
  },
  "cells": [
    {
      "cell_type": "markdown",
      "metadata": {
        "id": "view-in-github",
        "colab_type": "text"
      },
      "source": [
        "<a href=\"https://colab.research.google.com/github/ilaydakasapcopur/SeniorProject/blob/main/DatasetImplementation.ipynb\" target=\"_parent\"><img src=\"https://colab.research.google.com/assets/colab-badge.svg\" alt=\"Open In Colab\"/></a>"
      ]
    },
    {
      "cell_type": "code",
      "execution_count": 17,
      "metadata": {
        "id": "-XPnetl0ke1E",
        "colab": {
          "base_uri": "https://localhost:8080/"
        },
        "outputId": "b74ffe70-6aad-478f-e471-0e03e10073ef"
      },
      "outputs": [
        {
          "output_type": "stream",
          "name": "stdout",
          "text": [
            "Drive already mounted at /content/drive; to attempt to forcibly remount, call drive.mount(\"/content/drive\", force_remount=True).\n"
          ]
        }
      ],
      "source": [
        "import os\n",
        "from PIL import Image\n",
        "from torch.utils.data import Dataset, DataLoader\n",
        "from torchvision import transforms\n",
        "\n",
        "from google.colab import drive\n",
        "drive.mount('/content/drive')\n",
        "\n",
        "\n",
        "data_path = '/content/drive/My Drive/datasets/AnswerSheet'\n",
        "\n"
      ]
    },
    {
      "cell_type": "code",
      "source": [
        "\n",
        "transform = transforms.Compose([\n",
        "    transforms.Resize((224, 224)),\n",
        "    transforms.ToTensor(),\n",
        "    transforms.Normalize(mean=[0.5, 0.5, 0.5], std=[0.5, 0.5, 0.5])\n",
        "])\n"
      ],
      "metadata": {
        "id": "T3MRGtBYliwg"
      },
      "execution_count": 18,
      "outputs": []
    },
    {
      "cell_type": "code",
      "source": [
        "\n",
        "class AnswerSheetDataset(Dataset):\n",
        "    def __init__(self, data_path, transform=None):\n",
        "        self.data_path = data_path\n",
        "        self.transform = transform\n",
        "        self.image_paths = []\n",
        "        self.labels = []\n",
        "\n",
        "        for label, folder in enumerate(os.listdir(data_path)):\n",
        "            folder_path = os.path.join(data_path, folder)\n",
        "            if os.path.isdir(folder_path):\n",
        "                for image_name in os.listdir(folder_path):\n",
        "                    image_path = os.path.join(folder_path, image_name)\n",
        "                    if image_path.endswith(('.jpg', '.jpeg', '.png')):\n",
        "                        self.image_paths.append(image_path)\n",
        "                        self.labels.append(label)\n",
        "\n",
        "    def __len__(self):\n",
        "        return len(self.image_paths)\n",
        "\n",
        "    def __getitem__(self, idx):\n",
        "        image_path = self.image_paths[idx]\n",
        "        image = Image.open(image_path).convert('RGB')\n",
        "\n",
        "        if self.transform:\n",
        "            image = self.transform(image)\n",
        "\n",
        "        label = self.labels[idx]\n",
        "\n",
        "        return image, label\n",
        "\n"
      ],
      "metadata": {
        "id": "AD1-OgICli0A"
      },
      "execution_count": 19,
      "outputs": []
    },
    {
      "cell_type": "code",
      "source": [
        "\n",
        "dataset = AnswerSheetDataset(data_path, transform=transform)\n",
        "\n",
        "\n",
        "dataloader = DataLoader(dataset, batch_size=32, shuffle=True, num_workers=2)\n"
      ],
      "metadata": {
        "id": "uLUIia0Ali1Y"
      },
      "execution_count": 20,
      "outputs": []
    },
    {
      "cell_type": "code",
      "source": [
        "\n",
        "for images, labels in dataloader:\n",
        "    print(images.shape)  # Prints the shape of the batch of images\n",
        "    print(labels)        # Prints the batch of labels\n",
        "    break  # just first batch"
      ],
      "metadata": {
        "id": "q2Z2ZnMhli3w",
        "colab": {
          "base_uri": "https://localhost:8080/"
        },
        "outputId": "bc4878c7-f751-4532-a823-bb251d0e089f"
      },
      "execution_count": 21,
      "outputs": [
        {
          "output_type": "stream",
          "name": "stdout",
          "text": [
            "torch.Size([32, 3, 224, 224])\n",
            "tensor([5, 1, 3, 5, 1, 0, 3, 3, 5, 4, 0, 2, 2, 5, 2, 5, 0, 5, 0, 3, 3, 0, 4, 2,\n",
            "        0, 3, 0, 0, 1, 0, 0, 2])\n"
          ]
        }
      ]
    },
    {
      "cell_type": "code",
      "source": [],
      "metadata": {
        "id": "ohW86yOIlucV"
      },
      "execution_count": 21,
      "outputs": []
    },
    {
      "cell_type": "code",
      "source": [],
      "metadata": {
        "id": "y2IvDzZ9lufP"
      },
      "execution_count": null,
      "outputs": []
    },
    {
      "cell_type": "code",
      "source": [],
      "metadata": {
        "id": "FR3hvYpWlug0"
      },
      "execution_count": null,
      "outputs": []
    }
  ]
}